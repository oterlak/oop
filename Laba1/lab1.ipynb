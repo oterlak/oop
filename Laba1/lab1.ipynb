{
 "cells": [
  {
   "cell_type": "code",
   "execution_count": 1,
   "metadata": {},
   "outputs": [
    {
     "name": "stdout",
     "output_type": "stream",
     "text": [
      "Олег started learning Python on 2024-11-05 22:33:08. Kyiv is a wonderful place!\n"
     ]
    }
   ],
   "source": [
    "from datetime import datetime\n",
    "\n",
    "name = \"Олег\"\n",
    "location = \"Kyiv\"\n",
    "activity = \"learning Python\"\n",
    "\n",
    "print(f\"{name} started {activity} on {datetime.now().strftime('%Y-%m-%d %H:%M:%S')}. {location} is a wonderful place!\")\n"
   ]
  },
  {
   "cell_type": "markdown",
   "metadata": {},
   "source": [
    "## Моя перша програма\n"
   ]
  }
 ],
 "metadata": {
  "kernelspec": {
   "display_name": "Python 3",
   "language": "python",
   "name": "python3"
  },
  "language_info": {
   "codemirror_mode": {
    "name": "ipython",
    "version": 3
   },
   "file_extension": ".py",
   "mimetype": "text/x-python",
   "name": "python",
   "nbconvert_exporter": "python",
   "pygments_lexer": "ipython3",
   "version": "3.13.0"
  }
 },
 "nbformat": 4,
 "nbformat_minor": 2
}
